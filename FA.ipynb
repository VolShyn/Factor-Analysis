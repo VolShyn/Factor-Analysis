{
  "nbformat": 4,
  "nbformat_minor": 0,
  "metadata": {
    "colab": {
      "provenance": []
    },
    "kernelspec": {
      "name": "python3",
      "display_name": "Python 3"
    },
    "language_info": {
      "name": "python"
    }
  },
  "cells": [
    {
      "cell_type": "markdown",
      "source": [
        "# Factor Analysis\n",
        "\n",
        "### *PCA model*:\n",
        "\n",
        "$$ Z = XW, $$\n",
        "\n",
        "where $ Z $ - principal component, $ X $ - original data, $ W $ - weight matrix (eigenvectors of the covariance matrix)\n",
        "\n",
        "Fundamentally:\n",
        "\n",
        "$$ X_i = a_{i1}PC_1 + a_{i2}PC_2 + \\dots + a_{ip}PC_p ;$$\n",
        "\n",
        "Considers *total variance* in the data. Components are uncorrelated by construction.\n",
        "\n",
        "Roughly speaking, we want to save as much information as we can, while reducing the dimensionality.\n",
        "\n",
        "### *FA model*:\n",
        "\n",
        "$$ X = LF + ϵ,$$\n",
        "\n",
        "where $ X $ - observed variables, $ L $ - factor loadings matrix, $ F $ - latent factors, $ ϵ $ - unique factors.\n",
        "\n",
        "Similarly to PCA, we also reducing the number of variables while retaining as much information as possible, but despite that, our approach is a bit different from what PCA does.\n",
        "\n",
        "We want to explain correlation with some latent factors (which then can be interpreted analytically) by decomposing the variance of each variable into common variance (explained by factors) and unique variance (specific variance + error).\n",
        "\n",
        "Fundamental equation would look like:\n",
        "\n",
        "$$ X_i = \\lambda_{i1} F_1 + \\lambda_{i2} F_2 + \\dots + \\lambda_{in}F_n + ϵ_i$$\n",
        "\n",
        "where $ X_i $ is $i$-th observation, $\\lambda_{in}$ - loading of the $i$-th variable on the $n$-th factor, $ F_j $ - common factor , $ ϵ_i $ - unique factor.\n",
        "\n",
        "*Key assumptions* here:\n",
        "\n",
        "1. Common factors $ F $ have mean zero and unit variance\n",
        "2. Unique factors $ϵ$ is uncorrelated with common factors $F$\n",
        "3. $ X_i $ is standardized\n",
        "\n",
        "Total $Var$ of each $X$ can be partitioned into two variances as:\n",
        "\n",
        "$$ Var(X_i) =  \\sum_{j=1}^m \\underbrace{\\lambda_{ij}^2}_\\text{common} + \\underbrace{Var(\\epsilon)}_\\text{unique}$$\n",
        "\n",
        "since $ X_i $ is standardized $→ Var(X_i) = 1$\n",
        "\n",
        "$$ 1 = \\sum_{j=1}^m \\lambda_{ij}^2 + Var(\\epsilon) $$\n",
        "\n",
        "from here we may obtain *communality ($h_i^2)$* variable, which represents portion of variance explained by the common factors as:\n",
        "\n",
        "$$ h^2_i = \\sum_{j=1}^m  \\lambda_{ij}^2$$\n",
        "\n",
        "from what we get *uniqueness* as:\n",
        "\n",
        "$$ u = 1 - h^2_i;$$\n",
        "\n",
        "\n",
        "Let's breakdown algorithm step-by-step:\n",
        "\n",
        "1. We need to standardize the data:\n",
        "\n",
        "$$ Z = \\frac{X - \\overline{X}}{\\sigma} $$\n",
        "\n",
        "2. Second step is to calculate covariance matrix:\n",
        "\n",
        "$$ \\Sigma = Cov(X) = LL^T + E $$\n",
        "\n",
        "3. Get eigenvalues with the corresponding eigenvectors of $ \\Sigma $ via eigendecomposition:\n",
        "\n",
        "$$ \\Sigma = QDQ^T $$  \n",
        "\n",
        "SVD and other methods are appropriate.\n",
        "\n",
        "4. Decide on the number of factors\n",
        "\n",
        "5. Extract initial factor loadings as:\n",
        "\n",
        "$$ L = VD^{1/2}, $$\n",
        "\n",
        "where L - loadings, V - eigenvectors, D - diagonal matrix of square roots of eigenvalues\n",
        "\n",
        "i.e.\n",
        "\n",
        "$$ L_1 = v_1 \\times \\sqrt{d_1}$$\n",
        "\n",
        "6. Optional. Rotation (i.e. varimax) for better interpretation\n",
        "\n",
        "7. Get factor scores as:\n",
        "\n",
        "$$ S = W^T Z ,$$\n",
        "\n",
        "where $W$ is a weight matrix derived from the $L$ and $Z$ is a standardized data.\n",
        "\n",
        "8. Interpret the factors (If you can :D)\n",
        "\n",
        "9. Compute variances\n",
        "\n",
        "\n"
      ],
      "metadata": {
        "id": "2bMbcbN8ksGG"
      }
    },
    {
      "cell_type": "code",
      "execution_count": 4,
      "metadata": {
        "id": "zkj1mBvCPRpu"
      },
      "outputs": [],
      "source": [
        "import numpy as np\n",
        "import pandas as pd\n",
        "import matplotlib.pyplot as plt"
      ]
    },
    {
      "cell_type": "code",
      "source": [
        "df = pd.read_csv('/content/wolfs_dogs.txt', sep='\\t', header=None)\n",
        "\n",
        "print(df.head(6))"
      ],
      "metadata": {
        "colab": {
          "base_uri": "https://localhost:8080/"
        },
        "id": "UAh9v8L-PjlO",
        "outputId": "0ac715fe-7bd6-4665-d440-4388edfcd010"
      },
      "execution_count": 5,
      "outputs": [
        {
          "output_type": "stream",
          "name": "stdout",
          "text": [
            "     0   1   2     3     4     5\n",
            "0  129  64  95  17.5  11.2  13.8\n",
            "1  154  74  76  20.0  14.2  16.5\n",
            "2  170  87  71  17.9  12.3  15.9\n",
            "3  188  94  73  19.5  13.3  14.8\n",
            "4  161  81  55  17.1  12.1  13.0\n",
            "5  164  90  58  17.5  12.7  14.7\n"
          ]
        }
      ]
    },
    {
      "cell_type": "markdown",
      "source": [
        "let's add names to our columns"
      ],
      "metadata": {
        "id": "ncTosdTzRGfA"
      }
    },
    {
      "cell_type": "code",
      "source": [
        "df = df.rename(columns={0: \"Jaw length (mm)\", 1: \"Jaw width (mm)\", 2: \"Jaw depth (mm)\", 3: \"Tooth size (cm)\", 4: \"Mandible angle (cm)\", 5: \"Weight (kg)\"})"
      ],
      "metadata": {
        "id": "zbgvENpSRItz"
      },
      "execution_count": 6,
      "outputs": []
    },
    {
      "cell_type": "code",
      "source": [
        "df.head(6)\n"
      ],
      "metadata": {
        "colab": {
          "base_uri": "https://localhost:8080/",
          "height": 238
        },
        "id": "eVAEFwdHR1qZ",
        "outputId": "fe273a9f-c300-414f-869a-5cd56a62390a"
      },
      "execution_count": 7,
      "outputs": [
        {
          "output_type": "execute_result",
          "data": {
            "text/plain": [
              "   Jaw length (mm)  Jaw width (mm)  Jaw depth (mm)  Tooth size (cm)  \\\n",
              "0              129              64              95             17.5   \n",
              "1              154              74              76             20.0   \n",
              "2              170              87              71             17.9   \n",
              "3              188              94              73             19.5   \n",
              "4              161              81              55             17.1   \n",
              "5              164              90              58             17.5   \n",
              "\n",
              "   Mandible angle (cm)  Weight (kg)  \n",
              "0                 11.2         13.8  \n",
              "1                 14.2         16.5  \n",
              "2                 12.3         15.9  \n",
              "3                 13.3         14.8  \n",
              "4                 12.1         13.0  \n",
              "5                 12.7         14.7  "
            ],
            "text/html": [
              "\n",
              "  <div id=\"df-1b9d5cd3-80f9-460c-a410-e199e80aa637\" class=\"colab-df-container\">\n",
              "    <div>\n",
              "<style scoped>\n",
              "    .dataframe tbody tr th:only-of-type {\n",
              "        vertical-align: middle;\n",
              "    }\n",
              "\n",
              "    .dataframe tbody tr th {\n",
              "        vertical-align: top;\n",
              "    }\n",
              "\n",
              "    .dataframe thead th {\n",
              "        text-align: right;\n",
              "    }\n",
              "</style>\n",
              "<table border=\"1\" class=\"dataframe\">\n",
              "  <thead>\n",
              "    <tr style=\"text-align: right;\">\n",
              "      <th></th>\n",
              "      <th>Jaw length (mm)</th>\n",
              "      <th>Jaw width (mm)</th>\n",
              "      <th>Jaw depth (mm)</th>\n",
              "      <th>Tooth size (cm)</th>\n",
              "      <th>Mandible angle (cm)</th>\n",
              "      <th>Weight (kg)</th>\n",
              "    </tr>\n",
              "  </thead>\n",
              "  <tbody>\n",
              "    <tr>\n",
              "      <th>0</th>\n",
              "      <td>129</td>\n",
              "      <td>64</td>\n",
              "      <td>95</td>\n",
              "      <td>17.5</td>\n",
              "      <td>11.2</td>\n",
              "      <td>13.8</td>\n",
              "    </tr>\n",
              "    <tr>\n",
              "      <th>1</th>\n",
              "      <td>154</td>\n",
              "      <td>74</td>\n",
              "      <td>76</td>\n",
              "      <td>20.0</td>\n",
              "      <td>14.2</td>\n",
              "      <td>16.5</td>\n",
              "    </tr>\n",
              "    <tr>\n",
              "      <th>2</th>\n",
              "      <td>170</td>\n",
              "      <td>87</td>\n",
              "      <td>71</td>\n",
              "      <td>17.9</td>\n",
              "      <td>12.3</td>\n",
              "      <td>15.9</td>\n",
              "    </tr>\n",
              "    <tr>\n",
              "      <th>3</th>\n",
              "      <td>188</td>\n",
              "      <td>94</td>\n",
              "      <td>73</td>\n",
              "      <td>19.5</td>\n",
              "      <td>13.3</td>\n",
              "      <td>14.8</td>\n",
              "    </tr>\n",
              "    <tr>\n",
              "      <th>4</th>\n",
              "      <td>161</td>\n",
              "      <td>81</td>\n",
              "      <td>55</td>\n",
              "      <td>17.1</td>\n",
              "      <td>12.1</td>\n",
              "      <td>13.0</td>\n",
              "    </tr>\n",
              "    <tr>\n",
              "      <th>5</th>\n",
              "      <td>164</td>\n",
              "      <td>90</td>\n",
              "      <td>58</td>\n",
              "      <td>17.5</td>\n",
              "      <td>12.7</td>\n",
              "      <td>14.7</td>\n",
              "    </tr>\n",
              "  </tbody>\n",
              "</table>\n",
              "</div>\n",
              "    <div class=\"colab-df-buttons\">\n",
              "\n",
              "  <div class=\"colab-df-container\">\n",
              "    <button class=\"colab-df-convert\" onclick=\"convertToInteractive('df-1b9d5cd3-80f9-460c-a410-e199e80aa637')\"\n",
              "            title=\"Convert this dataframe to an interactive table.\"\n",
              "            style=\"display:none;\">\n",
              "\n",
              "  <svg xmlns=\"http://www.w3.org/2000/svg\" height=\"24px\" viewBox=\"0 -960 960 960\">\n",
              "    <path d=\"M120-120v-720h720v720H120Zm60-500h600v-160H180v160Zm220 220h160v-160H400v160Zm0 220h160v-160H400v160ZM180-400h160v-160H180v160Zm440 0h160v-160H620v160ZM180-180h160v-160H180v160Zm440 0h160v-160H620v160Z\"/>\n",
              "  </svg>\n",
              "    </button>\n",
              "\n",
              "  <style>\n",
              "    .colab-df-container {\n",
              "      display:flex;\n",
              "      gap: 12px;\n",
              "    }\n",
              "\n",
              "    .colab-df-convert {\n",
              "      background-color: #E8F0FE;\n",
              "      border: none;\n",
              "      border-radius: 50%;\n",
              "      cursor: pointer;\n",
              "      display: none;\n",
              "      fill: #1967D2;\n",
              "      height: 32px;\n",
              "      padding: 0 0 0 0;\n",
              "      width: 32px;\n",
              "    }\n",
              "\n",
              "    .colab-df-convert:hover {\n",
              "      background-color: #E2EBFA;\n",
              "      box-shadow: 0px 1px 2px rgba(60, 64, 67, 0.3), 0px 1px 3px 1px rgba(60, 64, 67, 0.15);\n",
              "      fill: #174EA6;\n",
              "    }\n",
              "\n",
              "    .colab-df-buttons div {\n",
              "      margin-bottom: 4px;\n",
              "    }\n",
              "\n",
              "    [theme=dark] .colab-df-convert {\n",
              "      background-color: #3B4455;\n",
              "      fill: #D2E3FC;\n",
              "    }\n",
              "\n",
              "    [theme=dark] .colab-df-convert:hover {\n",
              "      background-color: #434B5C;\n",
              "      box-shadow: 0px 1px 3px 1px rgba(0, 0, 0, 0.15);\n",
              "      filter: drop-shadow(0px 1px 2px rgba(0, 0, 0, 0.3));\n",
              "      fill: #FFFFFF;\n",
              "    }\n",
              "  </style>\n",
              "\n",
              "    <script>\n",
              "      const buttonEl =\n",
              "        document.querySelector('#df-1b9d5cd3-80f9-460c-a410-e199e80aa637 button.colab-df-convert');\n",
              "      buttonEl.style.display =\n",
              "        google.colab.kernel.accessAllowed ? 'block' : 'none';\n",
              "\n",
              "      async function convertToInteractive(key) {\n",
              "        const element = document.querySelector('#df-1b9d5cd3-80f9-460c-a410-e199e80aa637');\n",
              "        const dataTable =\n",
              "          await google.colab.kernel.invokeFunction('convertToInteractive',\n",
              "                                                    [key], {});\n",
              "        if (!dataTable) return;\n",
              "\n",
              "        const docLinkHtml = 'Like what you see? Visit the ' +\n",
              "          '<a target=\"_blank\" href=https://colab.research.google.com/notebooks/data_table.ipynb>data table notebook</a>'\n",
              "          + ' to learn more about interactive tables.';\n",
              "        element.innerHTML = '';\n",
              "        dataTable['output_type'] = 'display_data';\n",
              "        await google.colab.output.renderOutput(dataTable, element);\n",
              "        const docLink = document.createElement('div');\n",
              "        docLink.innerHTML = docLinkHtml;\n",
              "        element.appendChild(docLink);\n",
              "      }\n",
              "    </script>\n",
              "  </div>\n",
              "\n",
              "\n",
              "<div id=\"df-6287a3fc-95b6-4183-9da3-786545f25b71\">\n",
              "  <button class=\"colab-df-quickchart\" onclick=\"quickchart('df-6287a3fc-95b6-4183-9da3-786545f25b71')\"\n",
              "            title=\"Suggest charts\"\n",
              "            style=\"display:none;\">\n",
              "\n",
              "<svg xmlns=\"http://www.w3.org/2000/svg\" height=\"24px\"viewBox=\"0 0 24 24\"\n",
              "     width=\"24px\">\n",
              "    <g>\n",
              "        <path d=\"M19 3H5c-1.1 0-2 .9-2 2v14c0 1.1.9 2 2 2h14c1.1 0 2-.9 2-2V5c0-1.1-.9-2-2-2zM9 17H7v-7h2v7zm4 0h-2V7h2v10zm4 0h-2v-4h2v4z\"/>\n",
              "    </g>\n",
              "</svg>\n",
              "  </button>\n",
              "\n",
              "<style>\n",
              "  .colab-df-quickchart {\n",
              "      --bg-color: #E8F0FE;\n",
              "      --fill-color: #1967D2;\n",
              "      --hover-bg-color: #E2EBFA;\n",
              "      --hover-fill-color: #174EA6;\n",
              "      --disabled-fill-color: #AAA;\n",
              "      --disabled-bg-color: #DDD;\n",
              "  }\n",
              "\n",
              "  [theme=dark] .colab-df-quickchart {\n",
              "      --bg-color: #3B4455;\n",
              "      --fill-color: #D2E3FC;\n",
              "      --hover-bg-color: #434B5C;\n",
              "      --hover-fill-color: #FFFFFF;\n",
              "      --disabled-bg-color: #3B4455;\n",
              "      --disabled-fill-color: #666;\n",
              "  }\n",
              "\n",
              "  .colab-df-quickchart {\n",
              "    background-color: var(--bg-color);\n",
              "    border: none;\n",
              "    border-radius: 50%;\n",
              "    cursor: pointer;\n",
              "    display: none;\n",
              "    fill: var(--fill-color);\n",
              "    height: 32px;\n",
              "    padding: 0;\n",
              "    width: 32px;\n",
              "  }\n",
              "\n",
              "  .colab-df-quickchart:hover {\n",
              "    background-color: var(--hover-bg-color);\n",
              "    box-shadow: 0 1px 2px rgba(60, 64, 67, 0.3), 0 1px 3px 1px rgba(60, 64, 67, 0.15);\n",
              "    fill: var(--button-hover-fill-color);\n",
              "  }\n",
              "\n",
              "  .colab-df-quickchart-complete:disabled,\n",
              "  .colab-df-quickchart-complete:disabled:hover {\n",
              "    background-color: var(--disabled-bg-color);\n",
              "    fill: var(--disabled-fill-color);\n",
              "    box-shadow: none;\n",
              "  }\n",
              "\n",
              "  .colab-df-spinner {\n",
              "    border: 2px solid var(--fill-color);\n",
              "    border-color: transparent;\n",
              "    border-bottom-color: var(--fill-color);\n",
              "    animation:\n",
              "      spin 1s steps(1) infinite;\n",
              "  }\n",
              "\n",
              "  @keyframes spin {\n",
              "    0% {\n",
              "      border-color: transparent;\n",
              "      border-bottom-color: var(--fill-color);\n",
              "      border-left-color: var(--fill-color);\n",
              "    }\n",
              "    20% {\n",
              "      border-color: transparent;\n",
              "      border-left-color: var(--fill-color);\n",
              "      border-top-color: var(--fill-color);\n",
              "    }\n",
              "    30% {\n",
              "      border-color: transparent;\n",
              "      border-left-color: var(--fill-color);\n",
              "      border-top-color: var(--fill-color);\n",
              "      border-right-color: var(--fill-color);\n",
              "    }\n",
              "    40% {\n",
              "      border-color: transparent;\n",
              "      border-right-color: var(--fill-color);\n",
              "      border-top-color: var(--fill-color);\n",
              "    }\n",
              "    60% {\n",
              "      border-color: transparent;\n",
              "      border-right-color: var(--fill-color);\n",
              "    }\n",
              "    80% {\n",
              "      border-color: transparent;\n",
              "      border-right-color: var(--fill-color);\n",
              "      border-bottom-color: var(--fill-color);\n",
              "    }\n",
              "    90% {\n",
              "      border-color: transparent;\n",
              "      border-bottom-color: var(--fill-color);\n",
              "    }\n",
              "  }\n",
              "</style>\n",
              "\n",
              "  <script>\n",
              "    async function quickchart(key) {\n",
              "      const quickchartButtonEl =\n",
              "        document.querySelector('#' + key + ' button');\n",
              "      quickchartButtonEl.disabled = true;  // To prevent multiple clicks.\n",
              "      quickchartButtonEl.classList.add('colab-df-spinner');\n",
              "      try {\n",
              "        const charts = await google.colab.kernel.invokeFunction(\n",
              "            'suggestCharts', [key], {});\n",
              "      } catch (error) {\n",
              "        console.error('Error during call to suggestCharts:', error);\n",
              "      }\n",
              "      quickchartButtonEl.classList.remove('colab-df-spinner');\n",
              "      quickchartButtonEl.classList.add('colab-df-quickchart-complete');\n",
              "    }\n",
              "    (() => {\n",
              "      let quickchartButtonEl =\n",
              "        document.querySelector('#df-6287a3fc-95b6-4183-9da3-786545f25b71 button');\n",
              "      quickchartButtonEl.style.display =\n",
              "        google.colab.kernel.accessAllowed ? 'block' : 'none';\n",
              "    })();\n",
              "  </script>\n",
              "</div>\n",
              "    </div>\n",
              "  </div>\n"
            ],
            "application/vnd.google.colaboratory.intrinsic+json": {
              "type": "dataframe",
              "variable_name": "df",
              "summary": "{\n  \"name\": \"df\",\n  \"rows\": 43,\n  \"fields\": [\n    {\n      \"column\": \"Jaw length (mm)\",\n      \"properties\": {\n        \"dtype\": \"number\",\n        \"std\": 27,\n        \"min\": 129,\n        \"max\": 255,\n        \"num_unique_values\": 35,\n        \"samples\": [\n          227,\n          205,\n          242\n        ],\n        \"semantic_type\": \"\",\n        \"description\": \"\"\n      }\n    },\n    {\n      \"column\": \"Jaw width (mm)\",\n      \"properties\": {\n        \"dtype\": \"number\",\n        \"std\": 15,\n        \"min\": 64,\n        \"max\": 126,\n        \"num_unique_values\": 28,\n        \"samples\": [\n          123,\n          100,\n          114\n        ],\n        \"semantic_type\": \"\",\n        \"description\": \"\"\n      }\n    },\n    {\n      \"column\": \"Jaw depth (mm)\",\n      \"properties\": {\n        \"dtype\": \"number\",\n        \"std\": 9,\n        \"min\": 52,\n        \"max\": 95,\n        \"num_unique_values\": 25,\n        \"samples\": [\n          62,\n          86,\n          95\n        ],\n        \"semantic_type\": \"\",\n        \"description\": \"\"\n      }\n    },\n    {\n      \"column\": \"Tooth size (cm)\",\n      \"properties\": {\n        \"dtype\": \"number\",\n        \"std\": 2.5964538386020153,\n        \"min\": 16.7,\n        \"max\": 26.5,\n        \"num_unique_values\": 33,\n        \"samples\": [\n          26.0,\n          20.3,\n          25.3\n        ],\n        \"semantic_type\": \"\",\n        \"description\": \"\"\n      }\n    },\n    {\n      \"column\": \"Mandible angle (cm)\",\n      \"properties\": {\n        \"dtype\": \"number\",\n        \"std\": 1.3503004054428378,\n        \"min\": 11.2,\n        \"max\": 16.8,\n        \"num_unique_values\": 29,\n        \"samples\": [\n          15.8,\n          12.6,\n          14.1\n        ],\n        \"semantic_type\": \"\",\n        \"description\": \"\"\n      }\n    },\n    {\n      \"column\": \"Weight (kg)\",\n      \"properties\": {\n        \"dtype\": \"number\",\n        \"std\": 2.4623656795359152,\n        \"min\": 13.0,\n        \"max\": 27.0,\n        \"num_unique_values\": 35,\n        \"samples\": [\n          18.5,\n          17.7,\n          19.1\n        ],\n        \"semantic_type\": \"\",\n        \"description\": \"\"\n      }\n    }\n  ]\n}"
            }
          },
          "metadata": {},
          "execution_count": 7
        }
      ]
    },
    {
      "cell_type": "markdown",
      "source": [
        "we actually can skip standardization step, because we'll use correlation matrix, which is already normalized"
      ],
      "metadata": {
        "id": "rKYXVbwMV2PN"
      }
    },
    {
      "cell_type": "code",
      "source": [
        "normalized_df = (df - df.mean()) / df.std()"
      ],
      "metadata": {
        "id": "ayNEdCugmhxQ"
      },
      "execution_count": 8,
      "outputs": []
    },
    {
      "cell_type": "markdown",
      "source": [
        "now let's see correlation coefficients:"
      ],
      "metadata": {
        "id": "yCrJIKpKSAQS"
      }
    },
    {
      "cell_type": "code",
      "source": [
        "corr = df.corr()\n",
        "plt.imshow(corr)\n",
        "plt.colorbar()\n",
        "corr.head(6)"
      ],
      "metadata": {
        "colab": {
          "base_uri": "https://localhost:8080/",
          "height": 656
        },
        "id": "5QGp4LOlSDI5",
        "outputId": "4fc12f75-09ce-4e4d-fde9-52c9f259a98c"
      },
      "execution_count": 9,
      "outputs": [
        {
          "output_type": "execute_result",
          "data": {
            "text/plain": [
              "                     Jaw length (mm)  Jaw width (mm)  Jaw depth (mm)  \\\n",
              "Jaw length (mm)             1.000000        0.958741        0.348183   \n",
              "Jaw width (mm)              0.958741        1.000000        0.200333   \n",
              "Jaw depth (mm)              0.348183        0.200333        1.000000   \n",
              "Tooth size (cm)             0.612949        0.661002        0.369962   \n",
              "Mandible angle (cm)         0.717936        0.735956        0.350280   \n",
              "Weight (kg)                 0.587251        0.594653        0.354777   \n",
              "\n",
              "                     Tooth size (cm)  Mandible angle (cm)  Weight (kg)  \n",
              "Jaw length (mm)             0.612949             0.717936     0.587251  \n",
              "Jaw width (mm)              0.661002             0.735956     0.594653  \n",
              "Jaw depth (mm)              0.369962             0.350280     0.354777  \n",
              "Tooth size (cm)             1.000000             0.893512     0.762643  \n",
              "Mandible angle (cm)         0.893512             1.000000     0.789216  \n",
              "Weight (kg)                 0.762643             0.789216     1.000000  "
            ],
            "text/html": [
              "\n",
              "  <div id=\"df-cca02a7d-e432-4879-8409-a2cb27247d6d\" class=\"colab-df-container\">\n",
              "    <div>\n",
              "<style scoped>\n",
              "    .dataframe tbody tr th:only-of-type {\n",
              "        vertical-align: middle;\n",
              "    }\n",
              "\n",
              "    .dataframe tbody tr th {\n",
              "        vertical-align: top;\n",
              "    }\n",
              "\n",
              "    .dataframe thead th {\n",
              "        text-align: right;\n",
              "    }\n",
              "</style>\n",
              "<table border=\"1\" class=\"dataframe\">\n",
              "  <thead>\n",
              "    <tr style=\"text-align: right;\">\n",
              "      <th></th>\n",
              "      <th>Jaw length (mm)</th>\n",
              "      <th>Jaw width (mm)</th>\n",
              "      <th>Jaw depth (mm)</th>\n",
              "      <th>Tooth size (cm)</th>\n",
              "      <th>Mandible angle (cm)</th>\n",
              "      <th>Weight (kg)</th>\n",
              "    </tr>\n",
              "  </thead>\n",
              "  <tbody>\n",
              "    <tr>\n",
              "      <th>Jaw length (mm)</th>\n",
              "      <td>1.000000</td>\n",
              "      <td>0.958741</td>\n",
              "      <td>0.348183</td>\n",
              "      <td>0.612949</td>\n",
              "      <td>0.717936</td>\n",
              "      <td>0.587251</td>\n",
              "    </tr>\n",
              "    <tr>\n",
              "      <th>Jaw width (mm)</th>\n",
              "      <td>0.958741</td>\n",
              "      <td>1.000000</td>\n",
              "      <td>0.200333</td>\n",
              "      <td>0.661002</td>\n",
              "      <td>0.735956</td>\n",
              "      <td>0.594653</td>\n",
              "    </tr>\n",
              "    <tr>\n",
              "      <th>Jaw depth (mm)</th>\n",
              "      <td>0.348183</td>\n",
              "      <td>0.200333</td>\n",
              "      <td>1.000000</td>\n",
              "      <td>0.369962</td>\n",
              "      <td>0.350280</td>\n",
              "      <td>0.354777</td>\n",
              "    </tr>\n",
              "    <tr>\n",
              "      <th>Tooth size (cm)</th>\n",
              "      <td>0.612949</td>\n",
              "      <td>0.661002</td>\n",
              "      <td>0.369962</td>\n",
              "      <td>1.000000</td>\n",
              "      <td>0.893512</td>\n",
              "      <td>0.762643</td>\n",
              "    </tr>\n",
              "    <tr>\n",
              "      <th>Mandible angle (cm)</th>\n",
              "      <td>0.717936</td>\n",
              "      <td>0.735956</td>\n",
              "      <td>0.350280</td>\n",
              "      <td>0.893512</td>\n",
              "      <td>1.000000</td>\n",
              "      <td>0.789216</td>\n",
              "    </tr>\n",
              "    <tr>\n",
              "      <th>Weight (kg)</th>\n",
              "      <td>0.587251</td>\n",
              "      <td>0.594653</td>\n",
              "      <td>0.354777</td>\n",
              "      <td>0.762643</td>\n",
              "      <td>0.789216</td>\n",
              "      <td>1.000000</td>\n",
              "    </tr>\n",
              "  </tbody>\n",
              "</table>\n",
              "</div>\n",
              "    <div class=\"colab-df-buttons\">\n",
              "\n",
              "  <div class=\"colab-df-container\">\n",
              "    <button class=\"colab-df-convert\" onclick=\"convertToInteractive('df-cca02a7d-e432-4879-8409-a2cb27247d6d')\"\n",
              "            title=\"Convert this dataframe to an interactive table.\"\n",
              "            style=\"display:none;\">\n",
              "\n",
              "  <svg xmlns=\"http://www.w3.org/2000/svg\" height=\"24px\" viewBox=\"0 -960 960 960\">\n",
              "    <path d=\"M120-120v-720h720v720H120Zm60-500h600v-160H180v160Zm220 220h160v-160H400v160Zm0 220h160v-160H400v160ZM180-400h160v-160H180v160Zm440 0h160v-160H620v160ZM180-180h160v-160H180v160Zm440 0h160v-160H620v160Z\"/>\n",
              "  </svg>\n",
              "    </button>\n",
              "\n",
              "  <style>\n",
              "    .colab-df-container {\n",
              "      display:flex;\n",
              "      gap: 12px;\n",
              "    }\n",
              "\n",
              "    .colab-df-convert {\n",
              "      background-color: #E8F0FE;\n",
              "      border: none;\n",
              "      border-radius: 50%;\n",
              "      cursor: pointer;\n",
              "      display: none;\n",
              "      fill: #1967D2;\n",
              "      height: 32px;\n",
              "      padding: 0 0 0 0;\n",
              "      width: 32px;\n",
              "    }\n",
              "\n",
              "    .colab-df-convert:hover {\n",
              "      background-color: #E2EBFA;\n",
              "      box-shadow: 0px 1px 2px rgba(60, 64, 67, 0.3), 0px 1px 3px 1px rgba(60, 64, 67, 0.15);\n",
              "      fill: #174EA6;\n",
              "    }\n",
              "\n",
              "    .colab-df-buttons div {\n",
              "      margin-bottom: 4px;\n",
              "    }\n",
              "\n",
              "    [theme=dark] .colab-df-convert {\n",
              "      background-color: #3B4455;\n",
              "      fill: #D2E3FC;\n",
              "    }\n",
              "\n",
              "    [theme=dark] .colab-df-convert:hover {\n",
              "      background-color: #434B5C;\n",
              "      box-shadow: 0px 1px 3px 1px rgba(0, 0, 0, 0.15);\n",
              "      filter: drop-shadow(0px 1px 2px rgba(0, 0, 0, 0.3));\n",
              "      fill: #FFFFFF;\n",
              "    }\n",
              "  </style>\n",
              "\n",
              "    <script>\n",
              "      const buttonEl =\n",
              "        document.querySelector('#df-cca02a7d-e432-4879-8409-a2cb27247d6d button.colab-df-convert');\n",
              "      buttonEl.style.display =\n",
              "        google.colab.kernel.accessAllowed ? 'block' : 'none';\n",
              "\n",
              "      async function convertToInteractive(key) {\n",
              "        const element = document.querySelector('#df-cca02a7d-e432-4879-8409-a2cb27247d6d');\n",
              "        const dataTable =\n",
              "          await google.colab.kernel.invokeFunction('convertToInteractive',\n",
              "                                                    [key], {});\n",
              "        if (!dataTable) return;\n",
              "\n",
              "        const docLinkHtml = 'Like what you see? Visit the ' +\n",
              "          '<a target=\"_blank\" href=https://colab.research.google.com/notebooks/data_table.ipynb>data table notebook</a>'\n",
              "          + ' to learn more about interactive tables.';\n",
              "        element.innerHTML = '';\n",
              "        dataTable['output_type'] = 'display_data';\n",
              "        await google.colab.output.renderOutput(dataTable, element);\n",
              "        const docLink = document.createElement('div');\n",
              "        docLink.innerHTML = docLinkHtml;\n",
              "        element.appendChild(docLink);\n",
              "      }\n",
              "    </script>\n",
              "  </div>\n",
              "\n",
              "\n",
              "<div id=\"df-91ea2609-7aa8-4bb2-974a-953833b78c70\">\n",
              "  <button class=\"colab-df-quickchart\" onclick=\"quickchart('df-91ea2609-7aa8-4bb2-974a-953833b78c70')\"\n",
              "            title=\"Suggest charts\"\n",
              "            style=\"display:none;\">\n",
              "\n",
              "<svg xmlns=\"http://www.w3.org/2000/svg\" height=\"24px\"viewBox=\"0 0 24 24\"\n",
              "     width=\"24px\">\n",
              "    <g>\n",
              "        <path d=\"M19 3H5c-1.1 0-2 .9-2 2v14c0 1.1.9 2 2 2h14c1.1 0 2-.9 2-2V5c0-1.1-.9-2-2-2zM9 17H7v-7h2v7zm4 0h-2V7h2v10zm4 0h-2v-4h2v4z\"/>\n",
              "    </g>\n",
              "</svg>\n",
              "  </button>\n",
              "\n",
              "<style>\n",
              "  .colab-df-quickchart {\n",
              "      --bg-color: #E8F0FE;\n",
              "      --fill-color: #1967D2;\n",
              "      --hover-bg-color: #E2EBFA;\n",
              "      --hover-fill-color: #174EA6;\n",
              "      --disabled-fill-color: #AAA;\n",
              "      --disabled-bg-color: #DDD;\n",
              "  }\n",
              "\n",
              "  [theme=dark] .colab-df-quickchart {\n",
              "      --bg-color: #3B4455;\n",
              "      --fill-color: #D2E3FC;\n",
              "      --hover-bg-color: #434B5C;\n",
              "      --hover-fill-color: #FFFFFF;\n",
              "      --disabled-bg-color: #3B4455;\n",
              "      --disabled-fill-color: #666;\n",
              "  }\n",
              "\n",
              "  .colab-df-quickchart {\n",
              "    background-color: var(--bg-color);\n",
              "    border: none;\n",
              "    border-radius: 50%;\n",
              "    cursor: pointer;\n",
              "    display: none;\n",
              "    fill: var(--fill-color);\n",
              "    height: 32px;\n",
              "    padding: 0;\n",
              "    width: 32px;\n",
              "  }\n",
              "\n",
              "  .colab-df-quickchart:hover {\n",
              "    background-color: var(--hover-bg-color);\n",
              "    box-shadow: 0 1px 2px rgba(60, 64, 67, 0.3), 0 1px 3px 1px rgba(60, 64, 67, 0.15);\n",
              "    fill: var(--button-hover-fill-color);\n",
              "  }\n",
              "\n",
              "  .colab-df-quickchart-complete:disabled,\n",
              "  .colab-df-quickchart-complete:disabled:hover {\n",
              "    background-color: var(--disabled-bg-color);\n",
              "    fill: var(--disabled-fill-color);\n",
              "    box-shadow: none;\n",
              "  }\n",
              "\n",
              "  .colab-df-spinner {\n",
              "    border: 2px solid var(--fill-color);\n",
              "    border-color: transparent;\n",
              "    border-bottom-color: var(--fill-color);\n",
              "    animation:\n",
              "      spin 1s steps(1) infinite;\n",
              "  }\n",
              "\n",
              "  @keyframes spin {\n",
              "    0% {\n",
              "      border-color: transparent;\n",
              "      border-bottom-color: var(--fill-color);\n",
              "      border-left-color: var(--fill-color);\n",
              "    }\n",
              "    20% {\n",
              "      border-color: transparent;\n",
              "      border-left-color: var(--fill-color);\n",
              "      border-top-color: var(--fill-color);\n",
              "    }\n",
              "    30% {\n",
              "      border-color: transparent;\n",
              "      border-left-color: var(--fill-color);\n",
              "      border-top-color: var(--fill-color);\n",
              "      border-right-color: var(--fill-color);\n",
              "    }\n",
              "    40% {\n",
              "      border-color: transparent;\n",
              "      border-right-color: var(--fill-color);\n",
              "      border-top-color: var(--fill-color);\n",
              "    }\n",
              "    60% {\n",
              "      border-color: transparent;\n",
              "      border-right-color: var(--fill-color);\n",
              "    }\n",
              "    80% {\n",
              "      border-color: transparent;\n",
              "      border-right-color: var(--fill-color);\n",
              "      border-bottom-color: var(--fill-color);\n",
              "    }\n",
              "    90% {\n",
              "      border-color: transparent;\n",
              "      border-bottom-color: var(--fill-color);\n",
              "    }\n",
              "  }\n",
              "</style>\n",
              "\n",
              "  <script>\n",
              "    async function quickchart(key) {\n",
              "      const quickchartButtonEl =\n",
              "        document.querySelector('#' + key + ' button');\n",
              "      quickchartButtonEl.disabled = true;  // To prevent multiple clicks.\n",
              "      quickchartButtonEl.classList.add('colab-df-spinner');\n",
              "      try {\n",
              "        const charts = await google.colab.kernel.invokeFunction(\n",
              "            'suggestCharts', [key], {});\n",
              "      } catch (error) {\n",
              "        console.error('Error during call to suggestCharts:', error);\n",
              "      }\n",
              "      quickchartButtonEl.classList.remove('colab-df-spinner');\n",
              "      quickchartButtonEl.classList.add('colab-df-quickchart-complete');\n",
              "    }\n",
              "    (() => {\n",
              "      let quickchartButtonEl =\n",
              "        document.querySelector('#df-91ea2609-7aa8-4bb2-974a-953833b78c70 button');\n",
              "      quickchartButtonEl.style.display =\n",
              "        google.colab.kernel.accessAllowed ? 'block' : 'none';\n",
              "    })();\n",
              "  </script>\n",
              "</div>\n",
              "    </div>\n",
              "  </div>\n"
            ],
            "application/vnd.google.colaboratory.intrinsic+json": {
              "type": "dataframe",
              "variable_name": "corr",
              "summary": "{\n  \"name\": \"corr\",\n  \"rows\": 6,\n  \"fields\": [\n    {\n      \"column\": \"Jaw length (mm)\",\n      \"properties\": {\n        \"dtype\": \"number\",\n        \"std\": 0.245450227938487,\n        \"min\": 0.3481834975707104,\n        \"max\": 1.0,\n        \"num_unique_values\": 6,\n        \"samples\": [\n          1.0,\n          0.958741037811596,\n          0.5872510139594629\n        ],\n        \"semantic_type\": \"\",\n        \"description\": \"\"\n      }\n    },\n    {\n      \"column\": \"Jaw width (mm)\",\n      \"properties\": {\n        \"dtype\": \"number\",\n        \"std\": 0.28986903583487994,\n        \"min\": 0.20033306760638908,\n        \"max\": 1.0,\n        \"num_unique_values\": 6,\n        \"samples\": [\n          0.958741037811596,\n          1.0,\n          0.5946532736365722\n        ],\n        \"semantic_type\": \"\",\n        \"description\": \"\"\n      }\n    },\n    {\n      \"column\": \"Jaw depth (mm)\",\n      \"properties\": {\n        \"dtype\": \"number\",\n        \"std\": 0.28271658022651613,\n        \"min\": 0.20033306760638908,\n        \"max\": 1.0,\n        \"num_unique_values\": 6,\n        \"samples\": [\n          0.3481834975707104,\n          0.20033306760638908,\n          0.35477712206746376\n        ],\n        \"semantic_type\": \"\",\n        \"description\": \"\"\n      }\n    },\n    {\n      \"column\": \"Tooth size (cm)\",\n      \"properties\": {\n        \"dtype\": \"number\",\n        \"std\": 0.22258758064724438,\n        \"min\": 0.36996187637250466,\n        \"max\": 1.0,\n        \"num_unique_values\": 6,\n        \"samples\": [\n          0.6129486244906436,\n          0.6610015507318244,\n          0.7626431408186091\n        ],\n        \"semantic_type\": \"\",\n        \"description\": \"\"\n      }\n    },\n    {\n      \"column\": \"Mandible angle (cm)\",\n      \"properties\": {\n        \"dtype\": \"number\",\n        \"std\": 0.22163332274192762,\n        \"min\": 0.3502797780991454,\n        \"max\": 1.0,\n        \"num_unique_values\": 6,\n        \"samples\": [\n          0.717935590722333,\n          0.7359560602747697,\n          0.7892163900878149\n        ],\n        \"semantic_type\": \"\",\n        \"description\": \"\"\n      }\n    },\n    {\n      \"column\": \"Weight (kg)\",\n      \"properties\": {\n        \"dtype\": \"number\",\n        \"std\": 0.22036438418542048,\n        \"min\": 0.35477712206746376,\n        \"max\": 1.0,\n        \"num_unique_values\": 6,\n        \"samples\": [\n          0.5872510139594629,\n          0.5946532736365722,\n          1.0\n        ],\n        \"semantic_type\": \"\",\n        \"description\": \"\"\n      }\n    }\n  ]\n}"
            }
          },
          "metadata": {},
          "execution_count": 9
        },
        {
          "output_type": "display_data",
          "data": {
            "text/plain": [
              "<Figure size 640x480 with 2 Axes>"
            ],
            "image/png": "[encoded data removed]"
          },
          "metadata": {}
        }
      ]
    },
    {
      "cell_type": "markdown",
      "source": [
        "We can observe high correlations between the data, however, let's just stick with top four:\n",
        "\n",
        " `jaw width` and `jaw length` ~ 0.96 ,\n",
        "\n",
        " `tooth size` and `mandible angle` ~ 0.89 ,\n",
        "\n",
        " `Weight` and `mandible angle` ~ 0.79 ,\n",
        "\n",
        " `Weight` and `tooth size` ~ 0.76\n",
        "\n",
        "\n",
        "\n"
      ],
      "metadata": {
        "id": "3G9TiH72S6xC"
      }
    },
    {
      "cell_type": "markdown",
      "source": [
        "but the most interesting one is `jaw depth`, because it shows lower correlations with other variables.\n",
        "\n",
        "i.e. now we have 2 groups:\n",
        "\n",
        "1. all variables except `jaw depth`\n",
        "2. `jaw depth`\n"
      ],
      "metadata": {
        "id": "BKLfExICWcB0"
      }
    },
    {
      "cell_type": "markdown",
      "source": [
        "Let's calculate eigenvalues\\vectors:"
      ],
      "metadata": {
        "id": "QLlAubeeWqta"
      }
    },
    {
      "cell_type": "code",
      "source": [
        "A = corr.to_numpy()"
      ],
      "metadata": {
        "id": "k7bgmXNKUp9V"
      },
      "execution_count": 10,
      "outputs": []
    },
    {
      "cell_type": "code",
      "source": [
        "eigenvalues, eigenvectors = np.linalg.eig(A)\n",
        "\n",
        "eigenvalues"
      ],
      "metadata": {
        "colab": {
          "base_uri": "https://localhost:8080/"
        },
        "id": "zTIIr5PwZaPD",
        "outputId": "425fa07d-29ba-427d-8b3c-d0847ac8ff07"
      },
      "execution_count": 11,
      "outputs": [
        {
          "output_type": "execute_result",
          "data": {
            "text/plain": [
              "array([4.09997446, 0.88253549, 0.63880132, 0.25948309, 0.02190017,\n",
              "       0.09730546])"
            ]
          },
          "metadata": {},
          "execution_count": 11
        }
      ]
    },
    {
      "cell_type": "markdown",
      "source": [
        "Using Kaiser criterion we can see, that only 1 eigenvalue is >1, however, let's take 2 factors as our main reference:"
      ],
      "metadata": {
        "id": "QYz9Iai0ZnFr"
      }
    },
    {
      "cell_type": "code",
      "source": [
        "idx = [0,1]  # idx of the eigenvalues\n",
        "eigenvalues = eigenvalues[idx]\n",
        "eigenvectors = eigenvectors[:, idx]\n",
        "\n",
        "# extracting the selected eigenvalues and eigenvectors\n",
        "selected_eigenvalues = eigenvalues[:2]\n",
        "selected_eigenvectors = eigenvectors[:, :2]\n",
        "\n",
        "# calculating factor loadings\n",
        "loadings = selected_eigenvectors * np.sqrt(selected_eigenvalues)\n",
        "\n",
        "# creating dataframe of loadings for demonstration\n",
        "variables = df.columns\n",
        "loadings_df = pd.DataFrame(loadings, index=variables, columns=[f'factor {i+1}' for i in range(2)])"
      ],
      "metadata": {
        "id": "CFvLjxxyZvpe"
      },
      "execution_count": 12,
      "outputs": []
    },
    {
      "cell_type": "code",
      "source": [
        "print(loadings_df)"
      ],
      "metadata": {
        "colab": {
          "base_uri": "https://localhost:8080/"
        },
        "id": "R8wv08GTaDjS",
        "outputId": "584714ce-a705-4070-f194-8ba0ee0607b6"
      },
      "execution_count": 13,
      "outputs": [
        {
          "output_type": "stream",
          "name": "stdout",
          "text": [
            "                     factor 1  factor 2\n",
            "Jaw length (mm)      0.872356  0.214611\n",
            "Jaw width (mm)       0.871724  0.357341\n",
            "Jaw depth (mm)       0.461940 -0.834450\n",
            "Tooth size (cm)      0.888951 -0.061999\n",
            "Mandible angle (cm)  0.931568  0.019602\n",
            "Weight (kg)          0.841204 -0.090824\n"
          ]
        }
      ]
    },
    {
      "cell_type": "markdown",
      "source": [
        "We wont use the rotation function here, because the result are pretty interpretable already:\n",
        "\n",
        "Group 1 relies on the `factor 1`, and group 2 loads negatively on `factor 2`.\n",
        "\n",
        "So, we can conclude that `factor 1` could represent some general growth factor affecting the size of the jaw and related features\n",
        "\n",
        "`factor 2` might indicate on some functional adaptation"
      ],
      "metadata": {
        "id": "vn90OCiFYZxV"
      }
    },
    {
      "cell_type": "markdown",
      "source": [
        "Now, we can calculate communalities and uniquenesses:"
      ],
      "metadata": {
        "id": "-bg8srcibLIs"
      }
    },
    {
      "cell_type": "code",
      "source": [
        "x = np.array([3, 12, 2]) # just funny how argsort works\n",
        "_ = np.argsort(x) # this code is not needed for FA\n",
        "_ # output is a list of indeces that will sort our array"
      ],
      "metadata": {
        "colab": {
          "base_uri": "https://localhost:8080/"
        },
        "id": "kIIHqOAuejO8",
        "outputId": "767ecc29-885c-41cf-c2af-8f8511fd933e"
      },
      "execution_count": 15,
      "outputs": [
        {
          "output_type": "execute_result",
          "data": {
            "text/plain": [
              "array([2, 0, 1])"
            ]
          },
          "metadata": {},
          "execution_count": 15
        }
      ]
    },
    {
      "cell_type": "code",
      "source": [
        "x[_] # you see? funny"
      ],
      "metadata": {
        "colab": {
          "base_uri": "https://localhost:8080/"
        },
        "id": "FmCAC92ZZaWy",
        "outputId": "5eb16f38-d374-494e-8bf5-a676f9e7c86e"
      },
      "execution_count": 16,
      "outputs": [
        {
          "output_type": "execute_result",
          "data": {
            "text/plain": [
              "array([ 2,  3, 12])"
            ]
          },
          "metadata": {},
          "execution_count": 16
        }
      ]
    },
    {
      "cell_type": "markdown",
      "source": [
        "communalities $ → h^2 = \\sum_{i} \\lambda^2_i $"
      ],
      "metadata": {
        "id": "RFLKyEl2gH6c"
      }
    },
    {
      "cell_type": "code",
      "source": [
        "communalities = np.sum(loadings**2, axis=1)\n",
        "uniquenesses = 1 - communalities"
      ],
      "metadata": {
        "id": "rEy41x8mbPUJ"
      },
      "execution_count": 17,
      "outputs": []
    },
    {
      "cell_type": "code",
      "source": [
        "communalities"
      ],
      "metadata": {
        "colab": {
          "base_uri": "https://localhost:8080/"
        },
        "id": "s9oe5pvbcNor",
        "outputId": "c8b0f5b4-3e2f-4c2b-dfd5-4d4a89fe0606"
      },
      "execution_count": 18,
      "outputs": [
        {
          "output_type": "execute_result",
          "data": {
            "text/plain": [
              "array([0.80706369, 0.88759545, 0.90969624, 0.79407828, 0.86820232,\n",
              "       0.71587397])"
            ]
          },
          "metadata": {},
          "execution_count": 18
        }
      ]
    },
    {
      "cell_type": "code",
      "source": [
        "uniquenesses"
      ],
      "metadata": {
        "colab": {
          "base_uri": "https://localhost:8080/"
        },
        "id": "aS7zfLr-cO91",
        "outputId": "f8d319e5-da20-4ff9-8235-7b2f01522448"
      },
      "execution_count": 19,
      "outputs": [
        {
          "output_type": "execute_result",
          "data": {
            "text/plain": [
              "array([0.19293631, 0.11240455, 0.09030376, 0.20592172, 0.13179768,\n",
              "       0.28412603])"
            ]
          },
          "metadata": {},
          "execution_count": 19
        }
      ]
    },
    {
      "cell_type": "markdown",
      "source": [
        " In the end we get an unclear pictore, additionally we see that there are a lot of common variance, so from what I can conclude, this data is not suitable for FA..."
      ],
      "metadata": {
        "id": "Nz0BCb9QZka0"
      }
    },
    {
      "cell_type": "markdown",
      "source": [
        "## Library approach"
      ],
      "metadata": {
        "id": "WI85hA3dYgM7"
      }
    },
    {
      "cell_type": "code",
      "source": [
        "!pip install factor_analyzer --quiet"
      ],
      "metadata": {
        "colab": {
          "base_uri": "https://localhost:8080/"
        },
        "id": "yTHyANBrE1RO",
        "outputId": "75bc3b39-c70a-4b29-9606-bb73d09eede2"
      },
      "execution_count": 1,
      "outputs": [
        {
          "output_type": "stream",
          "name": "stdout",
          "text": [
            "\u001b[?25l     \u001b[90m━━━━━━━━━━━━━━━━━━━━━━━━━━━━━━━━━━━━━━━━\u001b[0m \u001b[32m0.0/42.8 kB\u001b[0m \u001b[31m?\u001b[0m eta \u001b[36m-:--:--\u001b[0m\r\u001b[2K     \u001b[90m━━━━━━━━━━━━━━━━━━━━━━━━━━━━━━━━━━━━━━━━\u001b[0m \u001b[32m42.8/42.8 kB\u001b[0m \u001b[31m1.4 MB/s\u001b[0m eta \u001b[36m0:00:00\u001b[0m\n",
            "\u001b[?25h  Installing build dependencies ... \u001b[?25l\u001b[?25hdone\n",
            "  Getting requirements to build wheel ... \u001b[?25l\u001b[?25hdone\n",
            "  Preparing metadata (pyproject.toml) ... \u001b[?25l\u001b[?25hdone\n",
            "  Building wheel for factor_analyzer (pyproject.toml) ... \u001b[?25l\u001b[?25hdone\n"
          ]
        }
      ]
    },
    {
      "cell_type": "code",
      "source": [
        "from factor_analyzer import FactorAnalyzer"
      ],
      "metadata": {
        "id": "16d3GCm3fZRx"
      },
      "execution_count": 2,
      "outputs": []
    },
    {
      "cell_type": "code",
      "source": [
        "from factor_analyzer.factor_analyzer import calculate_kmo\n",
        "\n",
        "kmo_all, kmo_model = calculate_kmo(corr)\n",
        "kmo_model # show's whether it is suitable to use FA (>0.5 is suitable)"
      ],
      "metadata": {
        "colab": {
          "base_uri": "https://localhost:8080/"
        },
        "id": "-9B-H1nvFHNY",
        "outputId": "cac14af0-6c3e-4bcf-9fda-998d169a6457"
      },
      "execution_count": 20,
      "outputs": [
        {
          "output_type": "stream",
          "name": "stderr",
          "text": [
            "/usr/local/lib/python3.10/dist-packages/factor_analyzer/utils.py:244: UserWarning: The inverse of the variance-covariance matrix was calculated using the Moore-Penrose generalized matrix inversion, due to its determinant being at or very close to zero.\n",
            "  warnings.warn(\n"
          ]
        },
        {
          "output_type": "execute_result",
          "data": {
            "text/plain": [
              "0.47662244383453994"
            ]
          },
          "metadata": {},
          "execution_count": 20
        }
      ]
    },
    {
      "cell_type": "markdown",
      "source": [
        "`kmo` value is another point to the team \"FA is not suitable here\" score"
      ],
      "metadata": {
        "id": "oS4uhZB3Z72i"
      }
    },
    {
      "cell_type": "code",
      "source": [
        "eigenvalues, eigenvectors = np.linalg.eig(A)\n",
        "eigenvalues\n"
      ],
      "metadata": {
        "colab": {
          "base_uri": "https://localhost:8080/"
        },
        "id": "60EHY3TQaiiM",
        "outputId": "b5732834-3154-424c-c1ee-39a6a1fc6724"
      },
      "execution_count": 43,
      "outputs": [
        {
          "output_type": "execute_result",
          "data": {
            "text/plain": [
              "array([4.09997446, 0.88253549, 0.63880132, 0.25948309, 0.02190017,\n",
              "       0.09730546])"
            ]
          },
          "metadata": {},
          "execution_count": 43
        }
      ]
    },
    {
      "cell_type": "code",
      "source": [
        "fa = FactorAnalyzer(n_factors=2, rotation=None, is_corr_matrix=True)\n",
        "fa.fit(corr)\n",
        "\n",
        "eigenvalues, vectors = fa.get_eigenvalues()\n",
        "\n",
        "print(eigenvalues)\n",
        "\n",
        "loadings = fa.loadings_\n",
        "loading_df = pd.DataFrame(loadings, index=variables, columns=['factor 1', 'factor 2'])\n",
        "\n",
        "loading_df\n"
      ],
      "metadata": {
        "colab": {
          "base_uri": "https://localhost:8080/",
          "height": 255
        },
        "id": "POer30j3FQAo",
        "outputId": "8ca839bb-ad7f-4025-a069-7608824bd908"
      },
      "execution_count": 55,
      "outputs": [
        {
          "output_type": "stream",
          "name": "stdout",
          "text": [
            "[4.09997446 0.88253549 0.63880132 0.25948309 0.09730546 0.02190017]\n"
          ]
        },
        {
          "output_type": "execute_result",
          "data": {
            "text/plain": [
              "                     factor 1  factor 2\n",
              "Jaw length (mm)      0.874799 -0.392492\n",
              "Jaw width (mm)       0.894137 -0.445583\n",
              "Jaw depth (mm)       0.372375  0.142386\n",
              "Tooth size (cm)      0.874113  0.320839\n",
              "Mandible angle (cm)  0.927235  0.221516\n",
              "Weight (kg)          0.789865  0.256874"
            ],
            "text/html": [
              "\n",
              "  <div id=\"df-09a1337e-623a-41a6-bd19-331767144af0\" class=\"colab-df-container\">\n",
              "    <div>\n",
              "<style scoped>\n",
              "    .dataframe tbody tr th:only-of-type {\n",
              "        vertical-align: middle;\n",
              "    }\n",
              "\n",
              "    .dataframe tbody tr th {\n",
              "        vertical-align: top;\n",
              "    }\n",
              "\n",
              "    .dataframe thead th {\n",
              "        text-align: right;\n",
              "    }\n",
              "</style>\n",
              "<table border=\"1\" class=\"dataframe\">\n",
              "  <thead>\n",
              "    <tr style=\"text-align: right;\">\n",
              "      <th></th>\n",
              "      <th>factor 1</th>\n",
              "      <th>factor 2</th>\n",
              "    </tr>\n",
              "  </thead>\n",
              "  <tbody>\n",
              "    <tr>\n",
              "      <th>Jaw length (mm)</th>\n",
              "      <td>0.874799</td>\n",
              "      <td>-0.392492</td>\n",
              "    </tr>\n",
              "    <tr>\n",
              "      <th>Jaw width (mm)</th>\n",
              "      <td>0.894137</td>\n",
              "      <td>-0.445583</td>\n",
              "    </tr>\n",
              "    <tr>\n",
              "      <th>Jaw depth (mm)</th>\n",
              "      <td>0.372375</td>\n",
              "      <td>0.142386</td>\n",
              "    </tr>\n",
              "    <tr>\n",
              "      <th>Tooth size (cm)</th>\n",
              "      <td>0.874113</td>\n",
              "      <td>0.320839</td>\n",
              "    </tr>\n",
              "    <tr>\n",
              "      <th>Mandible angle (cm)</th>\n",
              "      <td>0.927235</td>\n",
              "      <td>0.221516</td>\n",
              "    </tr>\n",
              "    <tr>\n",
              "      <th>Weight (kg)</th>\n",
              "      <td>0.789865</td>\n",
              "      <td>0.256874</td>\n",
              "    </tr>\n",
              "  </tbody>\n",
              "</table>\n",
              "</div>\n",
              "    <div class=\"colab-df-buttons\">\n",
              "\n",
              "  <div class=\"colab-df-container\">\n",
              "    <button class=\"colab-df-convert\" onclick=\"convertToInteractive('df-09a1337e-623a-41a6-bd19-331767144af0')\"\n",
              "            title=\"Convert this dataframe to an interactive table.\"\n",
              "            style=\"display:none;\">\n",
              "\n",
              "  <svg xmlns=\"http://www.w3.org/2000/svg\" height=\"24px\" viewBox=\"0 -960 960 960\">\n",
              "    <path d=\"M120-120v-720h720v720H120Zm60-500h600v-160H180v160Zm220 220h160v-160H400v160Zm0 220h160v-160H400v160ZM180-400h160v-160H180v160Zm440 0h160v-160H620v160ZM180-180h160v-160H180v160Zm440 0h160v-160H620v160Z\"/>\n",
              "  </svg>\n",
              "    </button>\n",
              "\n",
              "  <style>\n",
              "    .colab-df-container {\n",
              "      display:flex;\n",
              "      gap: 12px;\n",
              "    }\n",
              "\n",
              "    .colab-df-convert {\n",
              "      background-color: #E8F0FE;\n",
              "      border: none;\n",
              "      border-radius: 50%;\n",
              "      cursor: pointer;\n",
              "      display: none;\n",
              "      fill: #1967D2;\n",
              "      height: 32px;\n",
              "      padding: 0 0 0 0;\n",
              "      width: 32px;\n",
              "    }\n",
              "\n",
              "    .colab-df-convert:hover {\n",
              "      background-color: #E2EBFA;\n",
              "      box-shadow: 0px 1px 2px rgba(60, 64, 67, 0.3), 0px 1px 3px 1px rgba(60, 64, 67, 0.15);\n",
              "      fill: #174EA6;\n",
              "    }\n",
              "\n",
              "    .colab-df-buttons div {\n",
              "      margin-bottom: 4px;\n",
              "    }\n",
              "\n",
              "    [theme=dark] .colab-df-convert {\n",
              "      background-color: #3B4455;\n",
              "      fill: #D2E3FC;\n",
              "    }\n",
              "\n",
              "    [theme=dark] .colab-df-convert:hover {\n",
              "      background-color: #434B5C;\n",
              "      box-shadow: 0px 1px 3px 1px rgba(0, 0, 0, 0.15);\n",
              "      filter: drop-shadow(0px 1px 2px rgba(0, 0, 0, 0.3));\n",
              "      fill: #FFFFFF;\n",
              "    }\n",
              "  </style>\n",
              "\n",
              "    <script>\n",
              "      const buttonEl =\n",
              "        document.querySelector('#df-09a1337e-623a-41a6-bd19-331767144af0 button.colab-df-convert');\n",
              "      buttonEl.style.display =\n",
              "        google.colab.kernel.accessAllowed ? 'block' : 'none';\n",
              "\n",
              "      async function convertToInteractive(key) {\n",
              "        const element = document.querySelector('#df-09a1337e-623a-41a6-bd19-331767144af0');\n",
              "        const dataTable =\n",
              "          await google.colab.kernel.invokeFunction('convertToInteractive',\n",
              "                                                    [key], {});\n",
              "        if (!dataTable) return;\n",
              "\n",
              "        const docLinkHtml = 'Like what you see? Visit the ' +\n",
              "          '<a target=\"_blank\" href=https://colab.research.google.com/notebooks/data_table.ipynb>data table notebook</a>'\n",
              "          + ' to learn more about interactive tables.';\n",
              "        element.innerHTML = '';\n",
              "        dataTable['output_type'] = 'display_data';\n",
              "        await google.colab.output.renderOutput(dataTable, element);\n",
              "        const docLink = document.createElement('div');\n",
              "        docLink.innerHTML = docLinkHtml;\n",
              "        element.appendChild(docLink);\n",
              "      }\n",
              "    </script>\n",
              "  </div>\n",
              "\n",
              "\n",
              "<div id=\"df-b21509e8-4946-4ff3-8272-3b2c1980f5f0\">\n",
              "  <button class=\"colab-df-quickchart\" onclick=\"quickchart('df-b21509e8-4946-4ff3-8272-3b2c1980f5f0')\"\n",
              "            title=\"Suggest charts\"\n",
              "            style=\"display:none;\">\n",
              "\n",
              "<svg xmlns=\"http://www.w3.org/2000/svg\" height=\"24px\"viewBox=\"0 0 24 24\"\n",
              "     width=\"24px\">\n",
              "    <g>\n",
              "        <path d=\"M19 3H5c-1.1 0-2 .9-2 2v14c0 1.1.9 2 2 2h14c1.1 0 2-.9 2-2V5c0-1.1-.9-2-2-2zM9 17H7v-7h2v7zm4 0h-2V7h2v10zm4 0h-2v-4h2v4z\"/>\n",
              "    </g>\n",
              "</svg>\n",
              "  </button>\n",
              "\n",
              "<style>\n",
              "  .colab-df-quickchart {\n",
              "      --bg-color: #E8F0FE;\n",
              "      --fill-color: #1967D2;\n",
              "      --hover-bg-color: #E2EBFA;\n",
              "      --hover-fill-color: #174EA6;\n",
              "      --disabled-fill-color: #AAA;\n",
              "      --disabled-bg-color: #DDD;\n",
              "  }\n",
              "\n",
              "  [theme=dark] .colab-df-quickchart {\n",
              "      --bg-color: #3B4455;\n",
              "      --fill-color: #D2E3FC;\n",
              "      --hover-bg-color: #434B5C;\n",
              "      --hover-fill-color: #FFFFFF;\n",
              "      --disabled-bg-color: #3B4455;\n",
              "      --disabled-fill-color: #666;\n",
              "  }\n",
              "\n",
              "  .colab-df-quickchart {\n",
              "    background-color: var(--bg-color);\n",
              "    border: none;\n",
              "    border-radius: 50%;\n",
              "    cursor: pointer;\n",
              "    display: none;\n",
              "    fill: var(--fill-color);\n",
              "    height: 32px;\n",
              "    padding: 0;\n",
              "    width: 32px;\n",
              "  }\n",
              "\n",
              "  .colab-df-quickchart:hover {\n",
              "    background-color: var(--hover-bg-color);\n",
              "    box-shadow: 0 1px 2px rgba(60, 64, 67, 0.3), 0 1px 3px 1px rgba(60, 64, 67, 0.15);\n",
              "    fill: var(--button-hover-fill-color);\n",
              "  }\n",
              "\n",
              "  .colab-df-quickchart-complete:disabled,\n",
              "  .colab-df-quickchart-complete:disabled:hover {\n",
              "    background-color: var(--disabled-bg-color);\n",
              "    fill: var(--disabled-fill-color);\n",
              "    box-shadow: none;\n",
              "  }\n",
              "\n",
              "  .colab-df-spinner {\n",
              "    border: 2px solid var(--fill-color);\n",
              "    border-color: transparent;\n",
              "    border-bottom-color: var(--fill-color);\n",
              "    animation:\n",
              "      spin 1s steps(1) infinite;\n",
              "  }\n",
              "\n",
              "  @keyframes spin {\n",
              "    0% {\n",
              "      border-color: transparent;\n",
              "      border-bottom-color: var(--fill-color);\n",
              "      border-left-color: var(--fill-color);\n",
              "    }\n",
              "    20% {\n",
              "      border-color: transparent;\n",
              "      border-left-color: var(--fill-color);\n",
              "      border-top-color: var(--fill-color);\n",
              "    }\n",
              "    30% {\n",
              "      border-color: transparent;\n",
              "      border-left-color: var(--fill-color);\n",
              "      border-top-color: var(--fill-color);\n",
              "      border-right-color: var(--fill-color);\n",
              "    }\n",
              "    40% {\n",
              "      border-color: transparent;\n",
              "      border-right-color: var(--fill-color);\n",
              "      border-top-color: var(--fill-color);\n",
              "    }\n",
              "    60% {\n",
              "      border-color: transparent;\n",
              "      border-right-color: var(--fill-color);\n",
              "    }\n",
              "    80% {\n",
              "      border-color: transparent;\n",
              "      border-right-color: var(--fill-color);\n",
              "      border-bottom-color: var(--fill-color);\n",
              "    }\n",
              "    90% {\n",
              "      border-color: transparent;\n",
              "      border-bottom-color: var(--fill-color);\n",
              "    }\n",
              "  }\n",
              "</style>\n",
              "\n",
              "  <script>\n",
              "    async function quickchart(key) {\n",
              "      const quickchartButtonEl =\n",
              "        document.querySelector('#' + key + ' button');\n",
              "      quickchartButtonEl.disabled = true;  // To prevent multiple clicks.\n",
              "      quickchartButtonEl.classList.add('colab-df-spinner');\n",
              "      try {\n",
              "        const charts = await google.colab.kernel.invokeFunction(\n",
              "            'suggestCharts', [key], {});\n",
              "      } catch (error) {\n",
              "        console.error('Error during call to suggestCharts:', error);\n",
              "      }\n",
              "      quickchartButtonEl.classList.remove('colab-df-spinner');\n",
              "      quickchartButtonEl.classList.add('colab-df-quickchart-complete');\n",
              "    }\n",
              "    (() => {\n",
              "      let quickchartButtonEl =\n",
              "        document.querySelector('#df-b21509e8-4946-4ff3-8272-3b2c1980f5f0 button');\n",
              "      quickchartButtonEl.style.display =\n",
              "        google.colab.kernel.accessAllowed ? 'block' : 'none';\n",
              "    })();\n",
              "  </script>\n",
              "</div>\n",
              "    </div>\n",
              "  </div>\n"
            ],
            "application/vnd.google.colaboratory.intrinsic+json": {
              "type": "dataframe",
              "variable_name": "loading_df",
              "summary": "{\n  \"name\": \"loading_df\",\n  \"rows\": 6,\n  \"fields\": [\n    {\n      \"column\": \"factor 1\",\n      \"properties\": {\n        \"dtype\": \"number\",\n        \"std\": 0.20897129797451547,\n        \"min\": 0.3723750114923889,\n        \"max\": 0.9272349482370498,\n        \"num_unique_values\": 6,\n        \"samples\": [\n          0.8747986177938237,\n          0.8941367129172884,\n          0.7898651248188407\n        ],\n        \"semantic_type\": \"\",\n        \"description\": \"\"\n      }\n    },\n    {\n      \"column\": \"factor 2\",\n      \"properties\": {\n        \"dtype\": \"number\",\n        \"std\": 0.3432411004415739,\n        \"min\": -0.44558284698866407,\n        \"max\": 0.32083851859624746,\n        \"num_unique_values\": 6,\n        \"samples\": [\n          -0.3924921682876374,\n          -0.44558284698866407,\n          0.2568739263401826\n        ],\n        \"semantic_type\": \"\",\n        \"description\": \"\"\n      }\n    }\n  ]\n}"
            }
          },
          "metadata": {},
          "execution_count": 55
        }
      ]
    },
    {
      "cell_type": "markdown",
      "source": [
        "Results are different from what we've got! But no worries, It is because `factor_analyzer` lib uses the MinRes method by default insted of PCA.\n",
        "\n",
        "Let's quickly adjust numpy code so that our results will be approximately as from FA lib:"
      ],
      "metadata": {
        "id": "E0iu9O1hhaJb"
      }
    },
    {
      "cell_type": "code",
      "source": [
        "# initial communality (using SMC)\n",
        "init_comm = 1 - 1 / np.diag(np.linalg.inv(corr))\n",
        "A = df.corr().to_numpy() # reassigning\n",
        "\n",
        "for iteration in range(100):\n",
        "    # eigen decomposition\n",
        "    eigenvalues, eigenvectors = np.linalg.eigh(A)\n",
        "    idx = np.argsort(eigenvalues)[::-1]\n",
        "    eigenvalues = eigenvalues[idx]\n",
        "    eigenvectors = eigenvectors[:, idx]\n",
        "\n",
        "    # extract n_factors\n",
        "    n_factors = 2\n",
        "    selected_eigenvalues = eigenvalues[:n_factors]\n",
        "    selected_eigenvectors = eigenvectors[:, :n_factors]\n",
        "\n",
        "    # factor loadings\n",
        "    loadings = selected_eigenvectors * np.sqrt(selected_eigenvalues)\n",
        "\n",
        "    # recalculating communalities\n",
        "    new_comm = np.sum(loadings ** 2, axis=1)\n",
        "\n",
        "    # confergence if\n",
        "    if np.allclose(new_comm, init_comm, atol=1e-6):\n",
        "        break\n",
        "\n",
        "    # updating communalities\n",
        "    init_comm = new_comm\n",
        "    np.fill_diagonal(A, init_comm)\n",
        "\n",
        "print(\"final communalities:\\n\", init_comm)\n",
        "print(\"factor loadings:\\n\", loadings)"
      ],
      "metadata": {
        "colab": {
          "base_uri": "https://localhost:8080/"
        },
        "id": "-aomqK4GiAOK",
        "outputId": "1561c5df-e5c3-44c9-c0fa-15abc690477f"
      },
      "execution_count": 88,
      "outputs": [
        {
          "output_type": "stream",
          "name": "stdout",
          "text": [
            "final communalities:\n",
            " [0.74240064 1.36876354 0.17120498 0.843364   0.91250787 0.69168572]\n",
            "factor loadings:\n",
            " [[-0.8350861  -0.2122071 ]\n",
            " [-0.98226189 -0.63555103]\n",
            " [-0.36744716  0.19023031]\n",
            " [-0.86108977  0.31919963]\n",
            " [-0.91995979  0.25725835]\n",
            " [-0.78271222  0.28115353]]\n"
          ]
        }
      ]
    }
  ]
}